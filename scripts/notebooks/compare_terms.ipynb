{
 "cells": [
  {
   "cell_type": "code",
   "execution_count": 1,
   "metadata": {},
   "outputs": [],
   "source": [
    "import numpy as np\n",
    "import matplotlib.pyplot as plt\n",
    "import seaborn as sns\n",
    "import pandas as pd\n",
    "import pickle as pkl\n",
    "import gc\n",
    "import os\n",
    "\n",
    "from src.simulation import sim_glm_pop\n",
    "from src.theory import y_pred_full, covariance_full,  y_0_quad,  find_iso_rate, y_corrected_quad, find_iso_rate_input, cor_pred\n",
    "from src.correlation_functions import rate, mean_by_region, tot_cross_covariance_matrix, two_pop_correlation, mean_pop_correlation, cov_to_cor\n",
    "from src.plotting import raster_plot, abline\n",
    "from src.generate_connectivity import excitatory_only, gen_adjacency, hippo_weights, macro_weights\n",
    "\n",
    "\n"
   ]
  },
  {
   "cell_type": "code",
   "execution_count": 26,
   "metadata": {},
   "outputs": [],
   "source": [
    "def kth_term(J,R, k):\n",
    "    result = np.zeros_like(J)\n",
    "    for m in range(k):\n",
    "        n = k -m \n",
    "        result +=  np.linalg.matrix_power(J, m) @ R @  np.linalg.matrix_power(J, n).T\n",
    "    return result\n",
    "\n",
    "def cov_terms(J0, g, h, b, N):\n",
    "    J = macro_weights(J = J0, h3 = h, h1 = h, g = g)\n",
    "    r = y_0_quad(J, b)\n",
    "    R = np.diag(r/N)\n",
    "    gain =  2*(J@r+b)\n",
    "    J_lin =J* gain[...,None]\n",
    "    t1 = kth_term(J_lin, R, 1)[3,3]\n",
    "    t2 = kth_term(J_lin, R, 2)[3,3]\n",
    "    t3 = kth_term(J_lin, R, 3)[3,3]\n",
    "    return (t1, t2, t3)\n"
   ]
  },
  {
   "cell_type": "code",
   "execution_count": 27,
   "metadata": {},
   "outputs": [
    {
     "data": {
      "text/plain": [
       "(0.0, 0.0045465140586380855, -0.007036833494094149)"
      ]
     },
     "execution_count": 27,
     "metadata": {},
     "output_type": "execute_result"
    }
   ],
   "source": [
    "J0 = .2\n",
    "g = 3\n",
    "h = 2\n",
    "b = np.array([.5, .5, .7, .5, .5, .7])\n",
    "N_E =60\n",
    "N_I = 15\n",
    "Ns =np.array([N_E, N_E, N_I,  N_E, N_E, N_I])\n",
    "\n",
    "cov_terms(J0 = J0, g = g, h = h, b = b, N = Ns)"
   ]
  },
  {
   "cell_type": "code",
   "execution_count": 28,
   "metadata": {},
   "outputs": [
    {
     "data": {
      "text/plain": [
       "(0.0, 0.0047694965066064675, -0.007204599029977917)"
      ]
     },
     "execution_count": 28,
     "metadata": {},
     "output_type": "execute_result"
    }
   ],
   "source": [
    "cov_terms2(J0 = J0, g = g, h = h, b = b, N = Ns)"
   ]
  }
 ],
 "metadata": {
  "kernelspec": {
   "display_name": "Python 3.10.9 ('meanfieldtheorymemory')",
   "language": "python",
   "name": "python3"
  },
  "language_info": {
   "codemirror_mode": {
    "name": "ipython",
    "version": 3
   },
   "file_extension": ".py",
   "mimetype": "text/x-python",
   "name": "python",
   "nbconvert_exporter": "python",
   "pygments_lexer": "ipython3",
   "version": "3.10.13"
  },
  "orig_nbformat": 4,
  "vscode": {
   "interpreter": {
    "hash": "faa9591b6387cc891694528a96f230d0eeedf562264a712cf42efae0b20fc94b"
   }
  }
 },
 "nbformat": 4,
 "nbformat_minor": 2
}
